{
 "cells": [
  {
   "cell_type": "markdown",
   "metadata": {},
   "source": [
    "# california 소비 데이터 분석\n",
    "\n",
    "Simpson’s Paradox – Mislead when groups are combined together"
   ]
  },
  {
   "cell_type": "markdown",
   "metadata": {},
   "source": [
    "## 0. 필요한 패키지 로드"
   ]
  },
  {
   "cell_type": "code",
   "execution_count": 1,
   "metadata": {},
   "outputs": [],
   "source": [
    "import pandas as pd\n",
    "import numpy as np\n",
    "import matplotlib.pyplot as plt"
   ]
  },
  {
   "cell_type": "markdown",
   "metadata": {},
   "source": [
    "## 1. 데이터 로드"
   ]
  },
  {
   "cell_type": "code",
   "execution_count": 2,
   "metadata": {},
   "outputs": [
    {
     "data": {
      "text/html": [
       "<div>\n",
       "<style scoped>\n",
       "    .dataframe tbody tr th:only-of-type {\n",
       "        vertical-align: middle;\n",
       "    }\n",
       "\n",
       "    .dataframe tbody tr th {\n",
       "        vertical-align: top;\n",
       "    }\n",
       "\n",
       "    .dataframe thead th {\n",
       "        text-align: right;\n",
       "    }\n",
       "</style>\n",
       "<table border=\"1\" class=\"dataframe\">\n",
       "  <thead>\n",
       "    <tr style=\"text-align: right;\">\n",
       "      <th></th>\n",
       "      <th>Id</th>\n",
       "      <th>Age Cohort</th>\n",
       "      <th>Age</th>\n",
       "      <th>Gender</th>\n",
       "      <th>Expenditures</th>\n",
       "      <th>Ethnicity</th>\n",
       "    </tr>\n",
       "  </thead>\n",
       "  <tbody>\n",
       "    <tr>\n",
       "      <th>0</th>\n",
       "      <td>10210</td>\n",
       "      <td>13 to 17</td>\n",
       "      <td>17</td>\n",
       "      <td>Female</td>\n",
       "      <td>2113</td>\n",
       "      <td>White not Hispanic</td>\n",
       "    </tr>\n",
       "    <tr>\n",
       "      <th>1</th>\n",
       "      <td>10409</td>\n",
       "      <td>22 to 50</td>\n",
       "      <td>37</td>\n",
       "      <td>Male</td>\n",
       "      <td>41924</td>\n",
       "      <td>White not Hispanic</td>\n",
       "    </tr>\n",
       "    <tr>\n",
       "      <th>2</th>\n",
       "      <td>10486</td>\n",
       "      <td>0 to 5</td>\n",
       "      <td>3</td>\n",
       "      <td>Male</td>\n",
       "      <td>1454</td>\n",
       "      <td>Hispanic</td>\n",
       "    </tr>\n",
       "  </tbody>\n",
       "</table>\n",
       "</div>"
      ],
      "text/plain": [
       "      Id Age Cohort  Age  Gender  Expenditures           Ethnicity\n",
       "0  10210   13 to 17   17  Female          2113  White not Hispanic\n",
       "1  10409   22 to 50   37    Male         41924  White not Hispanic\n",
       "2  10486     0 to 5    3    Male          1454            Hispanic"
      ]
     },
     "execution_count": 2,
     "metadata": {},
     "output_type": "execute_result"
    }
   ],
   "source": [
    "dds_url = \"https://raw.githubusercontent.com/bokyungB/visualization_course/main/data/californiaDDSDataV2.csv\"\n",
    "dds = pd.read_csv(dds_url,sep=\",\",encoding='utf-8')\n",
    "dds.head(3)"
   ]
  },
  {
   "cell_type": "code",
   "execution_count": 3,
   "metadata": {},
   "outputs": [
    {
     "data": {
      "text/html": [
       "<div>\n",
       "<style scoped>\n",
       "    .dataframe tbody tr th:only-of-type {\n",
       "        vertical-align: middle;\n",
       "    }\n",
       "\n",
       "    .dataframe tbody tr th {\n",
       "        vertical-align: top;\n",
       "    }\n",
       "\n",
       "    .dataframe thead th {\n",
       "        text-align: right;\n",
       "    }\n",
       "</style>\n",
       "<table border=\"1\" class=\"dataframe\">\n",
       "  <thead>\n",
       "    <tr style=\"text-align: right;\">\n",
       "      <th></th>\n",
       "      <th>Id</th>\n",
       "      <th>Age</th>\n",
       "      <th>Expenditures</th>\n",
       "    </tr>\n",
       "  </thead>\n",
       "  <tbody>\n",
       "    <tr>\n",
       "      <th>count</th>\n",
       "      <td>1000.000000</td>\n",
       "      <td>1000.000000</td>\n",
       "      <td>1000.000000</td>\n",
       "    </tr>\n",
       "    <tr>\n",
       "      <th>mean</th>\n",
       "      <td>54662.846000</td>\n",
       "      <td>22.800000</td>\n",
       "      <td>18065.786000</td>\n",
       "    </tr>\n",
       "    <tr>\n",
       "      <th>std</th>\n",
       "      <td>25643.673401</td>\n",
       "      <td>18.462038</td>\n",
       "      <td>19542.830884</td>\n",
       "    </tr>\n",
       "    <tr>\n",
       "      <th>min</th>\n",
       "      <td>10210.000000</td>\n",
       "      <td>0.000000</td>\n",
       "      <td>222.000000</td>\n",
       "    </tr>\n",
       "    <tr>\n",
       "      <th>25%</th>\n",
       "      <td>31808.750000</td>\n",
       "      <td>12.000000</td>\n",
       "      <td>2898.750000</td>\n",
       "    </tr>\n",
       "    <tr>\n",
       "      <th>50%</th>\n",
       "      <td>55384.500000</td>\n",
       "      <td>18.000000</td>\n",
       "      <td>7026.000000</td>\n",
       "    </tr>\n",
       "    <tr>\n",
       "      <th>75%</th>\n",
       "      <td>76134.750000</td>\n",
       "      <td>26.000000</td>\n",
       "      <td>37712.750000</td>\n",
       "    </tr>\n",
       "    <tr>\n",
       "      <th>max</th>\n",
       "      <td>99898.000000</td>\n",
       "      <td>95.000000</td>\n",
       "      <td>75098.000000</td>\n",
       "    </tr>\n",
       "  </tbody>\n",
       "</table>\n",
       "</div>"
      ],
      "text/plain": [
       "                 Id          Age  Expenditures\n",
       "count   1000.000000  1000.000000   1000.000000\n",
       "mean   54662.846000    22.800000  18065.786000\n",
       "std    25643.673401    18.462038  19542.830884\n",
       "min    10210.000000     0.000000    222.000000\n",
       "25%    31808.750000    12.000000   2898.750000\n",
       "50%    55384.500000    18.000000   7026.000000\n",
       "75%    76134.750000    26.000000  37712.750000\n",
       "max    99898.000000    95.000000  75098.000000"
      ]
     },
     "execution_count": 3,
     "metadata": {},
     "output_type": "execute_result"
    }
   ],
   "source": [
    "dds.describe()"
   ]
  },
  {
   "cell_type": "markdown",
   "metadata": {},
   "source": [
    "## 2. 시각화 "
   ]
  },
  {
   "cell_type": "markdown",
   "metadata": {},
   "source": [
    "### - 인종"
   ]
  },
  {
   "cell_type": "code",
   "execution_count": null,
   "metadata": {},
   "outputs": [
    {
     "data": {
      "text/html": [
       "<div>\n",
       "<style scoped>\n",
       "    .dataframe tbody tr th:only-of-type {\n",
       "        vertical-align: middle;\n",
       "    }\n",
       "\n",
       "    .dataframe tbody tr th {\n",
       "        vertical-align: top;\n",
       "    }\n",
       "\n",
       "    .dataframe thead th {\n",
       "        text-align: right;\n",
       "    }\n",
       "</style>\n",
       "<table border=\"1\" class=\"dataframe\">\n",
       "  <thead>\n",
       "    <tr style=\"text-align: right;\">\n",
       "      <th></th>\n",
       "      <th>Id</th>\n",
       "      <th>Age</th>\n",
       "      <th>Expenditures</th>\n",
       "    </tr>\n",
       "    <tr>\n",
       "      <th>Ethnicity</th>\n",
       "      <th></th>\n",
       "      <th></th>\n",
       "      <th></th>\n",
       "    </tr>\n",
       "  </thead>\n",
       "  <tbody>\n",
       "    <tr>\n",
       "      <th>Other</th>\n",
       "      <td>62868.500000</td>\n",
       "      <td>16.000000</td>\n",
       "      <td>3316.500000</td>\n",
       "    </tr>\n",
       "    <tr>\n",
       "      <th>Multi Race</th>\n",
       "      <td>59606.153846</td>\n",
       "      <td>10.269231</td>\n",
       "      <td>4456.730769</td>\n",
       "    </tr>\n",
       "    <tr>\n",
       "      <th>Hispanic</th>\n",
       "      <td>53741.686170</td>\n",
       "      <td>17.375000</td>\n",
       "      <td>11065.569149</td>\n",
       "    </tr>\n",
       "    <tr>\n",
       "      <th>Asian</th>\n",
       "      <td>57662.937984</td>\n",
       "      <td>23.069767</td>\n",
       "      <td>18392.372093</td>\n",
       "    </tr>\n",
       "    <tr>\n",
       "      <th>Black</th>\n",
       "      <td>53498.915254</td>\n",
       "      <td>24.644068</td>\n",
       "      <td>20884.593220</td>\n",
       "    </tr>\n",
       "    <tr>\n",
       "      <th>White not Hispanic</th>\n",
       "      <td>54179.246883</td>\n",
       "      <td>27.975062</td>\n",
       "      <td>24697.548628</td>\n",
       "    </tr>\n",
       "    <tr>\n",
       "      <th>American Indian</th>\n",
       "      <td>61524.500000</td>\n",
       "      <td>53.250000</td>\n",
       "      <td>36438.250000</td>\n",
       "    </tr>\n",
       "    <tr>\n",
       "      <th>Native Hawaiian</th>\n",
       "      <td>71181.333333</td>\n",
       "      <td>35.666667</td>\n",
       "      <td>42782.333333</td>\n",
       "    </tr>\n",
       "  </tbody>\n",
       "</table>\n",
       "</div>"
      ],
      "text/plain": [
       "                              Id        Age  Expenditures\n",
       "Ethnicity                                                \n",
       "Other               62868.500000  16.000000   3316.500000\n",
       "Multi Race          59606.153846  10.269231   4456.730769\n",
       "Hispanic            53741.686170  17.375000  11065.569149\n",
       "Asian               57662.937984  23.069767  18392.372093\n",
       "Black               53498.915254  24.644068  20884.593220\n",
       "White not Hispanic  54179.246883  27.975062  24697.548628\n",
       "American Indian     61524.500000  53.250000  36438.250000\n",
       "Native Hawaiian     71181.333333  35.666667  42782.333333"
      ]
     },
     "metadata": {},
     "output_type": "display_data"
    }
   ],
   "source": [
    "dds.groupby('Ethnicity').mean().sort_values('Expenditures')"
   ]
  },
  {
   "cell_type": "code",
   "execution_count": 59,
   "metadata": {},
   "outputs": [
    {
     "data": {
      "image/png": "[encoded data removed]",
      "text/plain": [
       "<Figure size 1152x576 with 1 Axes>"
      ]
     },
     "metadata": {
      "needs_background": "light"
     },
     "output_type": "display_data"
    }
   ],
   "source": [
    "dds.boxplot(column=['Expenditures'], by=['Ethnicity'], figsize=(16,8), grid=False)\n",
    "plt.suptitle('')\n",
    "plt.title('Expenditures by Ethnicity')\n",
    "plt.xlabel('Ethnicity')\n",
    "plt.ylabel('Expenditures')\n",
    "plt.show()\n"
   ]
  },
  {
   "cell_type": "markdown",
   "metadata": {},
   "source": [
    "여기서 바로 결론을 내리면 안됩니다.\n",
    "\n",
    "이 박스 플랏을 보고 어떤 고민을 하면 될까요? 어떤 시도를 다시 해봐야할까요?"
   ]
  },
  {
   "cell_type": "markdown",
   "metadata": {},
   "source": [
    "#### 참고 ) 그룹별로 색 지정하는 버전\n",
    "색상 참고 : \n",
    "https://matplotlib.org/2.0.2/examples/color/named_colors.html"
   ]
  },
  {
   "cell_type": "code",
   "execution_count": 68,
   "metadata": {},
   "outputs": [],
   "source": [
    "# 그룹별로 색 지정하는 버전 \n",
    "\n",
    "# all = dds.boxplot(column=['Expenditures'], by=['Ethnicity'], color={'medians': 'red'}, \n",
    "#                             figsize=(16,8), grid=False, patch_artist=True,return_type='both')\n",
    "# plt.suptitle('')\n",
    "# plt.title('Expenditures By Ethnicity', fontsize=16 )\n",
    "# plt.xlabel('Ethnicity')\n",
    "# plt.ylabel('Expenditures')\n",
    "\n",
    "# colors = ['darksalmon', 'tan', 'gold', 'olivedrab', 'lightseagreen','darkcyan','royalblue','plum']\n",
    " \n",
    "# for row_key, (ax, row) in all.iteritems():\n",
    "#     for i,box in enumerate(row['boxes']):\n",
    "#         box.set_facecolor(colors[i])\n",
    " \n",
    "# plt.show()"
   ]
  },
  {
   "cell_type": "markdown",
   "metadata": {},
   "source": [
    "### - 성별"
   ]
  },
  {
   "cell_type": "code",
   "execution_count": 7,
   "metadata": {},
   "outputs": [
    {
     "data": {
      "text/html": [
       "<div>\n",
       "<style scoped>\n",
       "    .dataframe tbody tr th:only-of-type {\n",
       "        vertical-align: middle;\n",
       "    }\n",
       "\n",
       "    .dataframe tbody tr th {\n",
       "        vertical-align: top;\n",
       "    }\n",
       "\n",
       "    .dataframe thead th {\n",
       "        text-align: right;\n",
       "    }\n",
       "</style>\n",
       "<table border=\"1\" class=\"dataframe\">\n",
       "  <thead>\n",
       "    <tr style=\"text-align: right;\">\n",
       "      <th></th>\n",
       "      <th>Id</th>\n",
       "      <th>Age</th>\n",
       "      <th>Expenditures</th>\n",
       "    </tr>\n",
       "    <tr>\n",
       "      <th>Gender</th>\n",
       "      <th></th>\n",
       "      <th></th>\n",
       "      <th></th>\n",
       "    </tr>\n",
       "  </thead>\n",
       "  <tbody>\n",
       "    <tr>\n",
       "      <th>Male</th>\n",
       "      <td>54603.983903</td>\n",
       "      <td>22.859155</td>\n",
       "      <td>18001.195171</td>\n",
       "    </tr>\n",
       "    <tr>\n",
       "      <th>Female</th>\n",
       "      <td>54721.005964</td>\n",
       "      <td>22.741551</td>\n",
       "      <td>18129.606362</td>\n",
       "    </tr>\n",
       "  </tbody>\n",
       "</table>\n",
       "</div>"
      ],
      "text/plain": [
       "                  Id        Age  Expenditures\n",
       "Gender                                       \n",
       "Male    54603.983903  22.859155  18001.195171\n",
       "Female  54721.005964  22.741551  18129.606362"
      ]
     },
     "execution_count": 7,
     "metadata": {},
     "output_type": "execute_result"
    }
   ],
   "source": [
    "dds.groupby('Gender').mean().sort_values('Expenditures')"
   ]
  },
  {
   "cell_type": "code",
   "execution_count": 18,
   "metadata": {},
   "outputs": [
    {
     "data": {
      "image/png": "[encoded data removed]",
      "text/plain": [
       "<Figure size 432x288 with 1 Axes>"
      ]
     },
     "metadata": {
      "needs_background": "light"
     },
     "output_type": "display_data"
    }
   ],
   "source": [
    "dds.boxplot(column=['Expenditures'], by=['Gender'], figsize=(6,4), grid=False)\n",
    "plt.suptitle('')\n",
    "plt.title('Expenditures by Gender')\n",
    "plt.xlabel('Geneder')\n",
    "plt.ylabel('Expenditures')\n",
    "plt.show()"
   ]
  },
  {
   "cell_type": "markdown",
   "metadata": {},
   "source": [
    "### - 연령대별"
   ]
  },
  {
   "cell_type": "code",
   "execution_count": 21,
   "metadata": {},
   "outputs": [
    {
     "data": {
      "text/html": [
       "<div>\n",
       "<style scoped>\n",
       "    .dataframe tbody tr th:only-of-type {\n",
       "        vertical-align: middle;\n",
       "    }\n",
       "\n",
       "    .dataframe tbody tr th {\n",
       "        vertical-align: top;\n",
       "    }\n",
       "\n",
       "    .dataframe thead th {\n",
       "        text-align: right;\n",
       "    }\n",
       "</style>\n",
       "<table border=\"1\" class=\"dataframe\">\n",
       "  <thead>\n",
       "    <tr style=\"text-align: right;\">\n",
       "      <th></th>\n",
       "      <th>Expenditures</th>\n",
       "    </tr>\n",
       "    <tr>\n",
       "      <th>Age Cohort</th>\n",
       "      <th></th>\n",
       "    </tr>\n",
       "  </thead>\n",
       "  <tbody>\n",
       "    <tr>\n",
       "      <th>0 to 5</th>\n",
       "      <td>1415.280488</td>\n",
       "    </tr>\n",
       "    <tr>\n",
       "      <th>6 to 12</th>\n",
       "      <td>2226.862857</td>\n",
       "    </tr>\n",
       "    <tr>\n",
       "      <th>13 to 17</th>\n",
       "      <td>3922.613208</td>\n",
       "    </tr>\n",
       "    <tr>\n",
       "      <th>18 to 21</th>\n",
       "      <td>9888.537688</td>\n",
       "    </tr>\n",
       "    <tr>\n",
       "      <th>22 to 50</th>\n",
       "      <td>40209.283186</td>\n",
       "    </tr>\n",
       "    <tr>\n",
       "      <th>51+</th>\n",
       "      <td>53521.896226</td>\n",
       "    </tr>\n",
       "  </tbody>\n",
       "</table>\n",
       "</div>"
      ],
      "text/plain": [
       "            Expenditures\n",
       "Age Cohort              \n",
       "0 to 5       1415.280488\n",
       "6 to 12      2226.862857\n",
       "13 to 17     3922.613208\n",
       "18 to 21     9888.537688\n",
       "22 to 50    40209.283186\n",
       "51+         53521.896226"
      ]
     },
     "execution_count": 21,
     "metadata": {},
     "output_type": "execute_result"
    }
   ],
   "source": [
    "dds.loc[:,['Age Cohort', 'Expenditures']].groupby('Age Cohort').mean().sort_values('Expenditures')"
   ]
  },
  {
   "cell_type": "markdown",
   "metadata": {},
   "source": [
    "## 3. 연령대별 + 인종별 분석"
   ]
  },
  {
   "cell_type": "code",
   "execution_count": 65,
   "metadata": {},
   "outputs": [],
   "source": [
    "df = dds.loc[:,['Age Cohort', 'Expenditures', 'Ethnicity']]\n",
    "\n",
    "zero_to_5 = df['Age Cohort'] == '0 to 5'\n",
    "six_to_12 = df['Age Cohort'] == '6 to 12'\n",
    "thirteen_to_17 = df['Age Cohort'] == '13 to 17'\n",
    "eighteen_to_21 = df['Age Cohort'] == '18 to 21'\n",
    "twentytwo_to_50 = df['Age Cohort'] == '22 to 50'\n",
    "fiftyone_plus = df['Age Cohort'] == '51+'\n",
    "\n",
    "colors = ['darksalmon', 'tan', 'gold', 'olivedrab', 'lightseagreen','darkcyan','royalblue','plum']"
   ]
  },
  {
   "cell_type": "code",
   "execution_count": 66,
   "metadata": {},
   "outputs": [
    {
     "data": {
      "image/png": "[encoded data removed]",
      "text/plain": [
       "<Figure size 1152x576 with 1 Axes>"
      ]
     },
     "metadata": {
      "needs_background": "light"
     },
     "output_type": "display_data"
    }
   ],
   "source": [
    "zero = df[zero_to_5].boxplot(column=['Expenditures'], by=['Ethnicity'], color={'medians': 'red'}, \n",
    "                            figsize=(16,8), grid=False, patch_artist=True,return_type='both')\n",
    "plt.suptitle('')\n",
    "plt.title('Expenditures By Ethnicity, Age: 0 to 5', fontsize=16 )\n",
    "plt.xlabel('Ethnicity')\n",
    "plt.ylabel('Expenditures')\n",
    "\n",
    "for row_key, (ax, row) in zero.iteritems():\n",
    "    for i,box in enumerate(row['boxes']):\n",
    "        box.set_facecolor(colors[i])\n",
    " \n",
    "plt.show()"
   ]
  },
  {
   "cell_type": "markdown",
   "metadata": {},
   "source": [
    "### Q 다른 연령대의 박스 플랏 모두 그리기"
   ]
  },
  {
   "cell_type": "code",
   "execution_count": null,
   "metadata": {},
   "outputs": [],
   "source": [
    "# six_to_12"
   ]
  },
  {
   "cell_type": "code",
   "execution_count": 55,
   "metadata": {},
   "outputs": [],
   "source": [
    "# six_to_12"
   ]
  },
  {
   "cell_type": "code",
   "execution_count": 56,
   "metadata": {},
   "outputs": [],
   "source": [
    "# thirteen_to_17"
   ]
  },
  {
   "cell_type": "code",
   "execution_count": 57,
   "metadata": {},
   "outputs": [],
   "source": [
    "# eighteen_to_21\n"
   ]
  },
  {
   "cell_type": "code",
   "execution_count": null,
   "metadata": {},
   "outputs": [],
   "source": [
    "# twentytwo_to_50 "
   ]
  },
  {
   "cell_type": "code",
   "execution_count": null,
   "metadata": {},
   "outputs": [],
   "source": [
    "# fiftyone_plus"
   ]
  }
 ],
 "metadata": {
  "kernelspec": {
   "display_name": "Python 3.8.13 ('aisample')",
   "language": "python",
   "name": "python3"
  },
  "language_info": {
   "codemirror_mode": {
    "name": "ipython",
    "version": 3
   },
   "file_extension": ".py",
   "mimetype": "text/x-python",
   "name": "python",
   "nbconvert_exporter": "python",
   "pygments_lexer": "ipython3",
   "version": "3.8.13"
  },
  "orig_nbformat": 4,
  "vscode": {
   "interpreter": {
    "hash": "a91d03cfb10b2986a9f151570fa697ad836497d427b5b1945fcd2a62ac7dae9b"
   }
  }
 },
 "nbformat": 4,
 "nbformat_minor": 2
}
